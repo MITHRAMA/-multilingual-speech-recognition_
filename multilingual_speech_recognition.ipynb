{
  "nbformat": 4,
  "nbformat_minor": 0,
  "metadata": {
    "colab": {
      "provenance": [],
      "authorship_tag": "ABX9TyNZpyjsV7jW5u+NH8tuYpio",
      "include_colab_link": true
    },
    "kernelspec": {
      "name": "python3",
      "display_name": "Python 3"
    },
    "language_info": {
      "name": "python"
    }
  },
  "cells": [
    {
      "cell_type": "markdown",
      "metadata": {
        "id": "view-in-github",
        "colab_type": "text"
      },
      "source": [
        "<a href=\"https://colab.research.google.com/github/MITHRAMA/-multilingual-speech-recognition_/blob/main/multilingual_speech_recognition.ipynb\" target=\"_parent\"><img src=\"https://colab.research.google.com/assets/colab-badge.svg\" alt=\"Open In Colab\"/></a>"
      ]
    },
    {
      "cell_type": "code",
      "source": [
        "import torch\n",
        "import torch.nn.functional as F\n",
        "from torch import Tensor\n",
        "from transformers import AutoTokenizer, AutoModel\n",
        "\n",
        "def average_pool(last_hidden_states: Tensor, attention_mask: Tensor) -> Tensor:\n",
        "    last_hidden = last_hidden_states.masked_fill(~attention_mask[..., None].bool(), 0.0)\n",
        "    return last_hidden.sum(dim=1) / attention_mask.sum(dim=1)[..., None]\n",
        "\n",
        "def get_detailed_instruct(task_description: str, query: str) -> str:\n",
        "    return f'Instruct: {task_description}\\nQuery: {query}'\n",
        "\n",
        "# Function to simulate speech input\n",
        "def simulate_speech_input(language, query):\n",
        "    return f\"Speech Input ({language}): {query}\"\n",
        "\n",
        "# English and Telugu queries\n",
        "english_query = simulate_speech_input('English', 'How much protein should a female eat?')\n",
        "telugu_query = simulate_speech_input('Telugu', 'మహిళలు ఎంత ప్రోటీన్ తినాలి?')\n",
        "\n",
        "# Dummy RAG document\n",
        "rag_document = \"\"\"\n",
        "RAG Document:\n",
        "1. Introduction to Protein Requirements\n",
        "   - Overview of daily protein needs based on age, gender, and activity level.\n",
        "2. Protein Requirements for Females\n",
        "   - Specific guidelines for females, including recommended daily intake and sources of protein.\n",
        "3. Factors Affecting Protein Needs\n",
        "   - Discusses factors like pregnancy, breastfeeding, and physical activity influencing protein requirements.\n",
        "4. Conclusion\n",
        "   - Summarizes the importance of meeting daily protein needs for optimal health.\n",
        "\"\"\"\n",
        "\n",
        "# Load tokenizer and model (using Multilingual Whisper)\n",
        "tokenizer = AutoTokenizer.from_pretrained('intfloat/multilingual-e5-large-instruct')\n",
        "model = AutoModel.from_pretrained('intfloat/multilingual-e5-large-instruct')\n",
        "\n",
        "# Combine queries and document for processing\n",
        "input_texts = [english_query, telugu_query, rag_document]\n",
        "\n",
        "# Tokenize input texts\n",
        "batch_dict = tokenizer(input_texts, return_tensors='pt', padding=True, truncation=True, max_length=512)\n",
        "\n",
        "# Get model outputs\n",
        "with torch.no_grad():\n",
        "    outputs = model(**batch_dict)\n",
        "    embeddings = outputs.last_hidden_state[:, 0, :]  # Take embeddings from the first token (CLS)\n",
        "\n",
        "# Normalize embeddings\n",
        "embeddings = F.normalize(embeddings, p=2, dim=1)\n",
        "\n",
        "# Calculate similarity scores\n",
        "scores = (embeddings[:-1] @ embeddings[-1].unsqueeze(-1)).squeeze().tolist()\n",
        "\n",
        "# Print similarity scores\n",
        "print(\"Similarity Scores:\")\n",
        "print(f\"English Query: {english_query}\\nScore: {scores[0]}\")\n",
        "print(f\"Telugu Query: {telugu_query}\\nScore: {scores[1]}\")\n"
      ],
      "metadata": {
        "colab": {
          "base_uri": "https://localhost:8080/"
        },
        "id": "JfGpvhIHQBwF",
        "outputId": "6b8c2e77-6b2e-426c-c0d3-5ceb36cf2c65"
      },
      "execution_count": null,
      "outputs": [
        {
          "output_type": "stream",
          "name": "stdout",
          "text": [
            "Similarity Scores:\n",
            "English Query: Speech Input (English): How much protein should a female eat?\n",
            "Score: 0.8464750647544861\n",
            "Telugu Query: Speech Input (Telugu): మహిళలు ఎంత ప్రోటీన్ తినాలి?\n",
            "Score: 0.8068825006484985\n"
          ]
        }
      ]
    }
  ]
}